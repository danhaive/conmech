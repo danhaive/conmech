{
 "cells": [
  {
   "cell_type": "markdown",
   "metadata": {},
   "source": [
    "**Dependencies:**\n",
    "\n",
    "- To direct c++ std stream to Jupyter notebook:\n",
    "    `pip install wurlitzer`\n",
    "\n",
    "- Deformed frame visualization\n",
    "    Install `meshcat-python`: https://github.com/rdeits/meshcat-python"
   ]
  },
  {
   "cell_type": "code",
   "execution_count": 1,
   "metadata": {},
   "outputs": [],
   "source": [
    "%load_ext autoreload"
   ]
  },
  {
   "cell_type": "code",
   "execution_count": 2,
   "metadata": {},
   "outputs": [],
   "source": [
    "%autoreload 2"
   ]
  },
  {
   "cell_type": "code",
   "execution_count": 3,
   "metadata": {},
   "outputs": [],
   "source": [
    "import numpy as np\n",
    "import pyconmech as cm\n",
    "from wurlitzer import sys_pipes\n",
    "\n",
    "import meshcat\n",
    "\n",
    "import meshcat.geometry as g\n",
    "from deformed_frame_viz import meshcat_visualize_deformed"
   ]
  },
  {
   "cell_type": "code",
   "execution_count": 4,
   "metadata": {},
   "outputs": [
    {
     "name": "stdout",
     "output_type": "stream",
     "text": [
      "You can open the visualizer by visiting the following URL:\n",
      "http://127.0.0.1:7000/static/\n"
     ]
    },
    {
     "data": {
      "text/html": [
       "\n",
       "<div style=\"height: 400px; width: 600px; overflow-x: auto; overflow-y: hidden; resize: both\">\n",
       "<iframe src=\"http://127.0.0.1:7000/static/\" style=\"width: 100%; height: 100%; border: none\"></iframe>\n",
       "</div>\n"
      ],
      "text/plain": [
       "<IPython.core.display.HTML object>"
      ]
     },
     "execution_count": 4,
     "metadata": {},
     "output_type": "execute_result"
    }
   ],
   "source": [
    "vis = meshcat.Visualizer()\n",
    "vis.jupyter_cell()"
   ]
  },
  {
   "cell_type": "markdown",
   "metadata": {},
   "source": [
    "# check deformation for a completed structure"
   ]
  },
  {
   "cell_type": "code",
   "execution_count": 5,
   "metadata": {},
   "outputs": [
    {
     "name": "stdout",
     "output_type": "stream",
     "text": [
      "solve: True\n",
      "No fixities info specified, assuming to be 6-dof fixed.\n",
      "No fixities info specified, assuming to be 6-dof fixed.\n",
      "No fixities info specified, assuming to be 6-dof fixed.\n",
      "No fixities info specified, assuming to be 6-dof fixed.\n",
      "No fixities info specified, assuming to be 6-dof fixed.\n",
      "No fixities info specified, assuming to be 6-dof fixed.\n",
      "No fixities info specified, assuming to be 6-dof fixed.\n",
      "No fixities info specified, assuming to be 6-dof fixed.\n",
      "No fixities info specified, assuming to be 6-dof fixed.\n",
      "No fixities info specified, assuming to be 6-dof fixed.\n",
      "No fixities info specified, assuming to be 6-dof fixed.\n",
      "No fixities info specified, assuming to be 6-dof fixed.\n",
      "No fixities info specified, assuming to be 6-dof fixed.\n",
      "No fixities info specified, assuming to be 6-dof fixed.\n",
      "No fixities info specified, assuming to be 6-dof fixed.\n",
      "No fixities info specified, assuming to be 6-dof fixed.\n",
      "No fixities info specified, assuming to be 6-dof fixed.\n",
      "No fixities info specified, assuming to be 6-dof fixed.\n",
      "No fixities info specified, assuming to be 6-dof fixed.\n",
      "No fixities info specified, assuming to be 6-dof fixed.\n",
      "Initialization done\n",
      "element reaction (kN, kN-m):\n",
      "         125  1.18896e-09            0            0            0            0            0 -1.18896e-09            0            0            0            0            0\n",
      "         126  2.80063e-09            0            0 -6.04078e-26 -5.13683e-11  3.54389e-11 -2.80063e-09            0            0  6.04078e-26  5.13683e-11 -3.54389e-11\n",
      "         115  1.27445e-08 -6.74979e-21  1.52863e-21   -1.833e-22 -2.66055e-10 -8.96358e-10 -1.27445e-08  6.74979e-21 -1.52863e-21    1.833e-22  2.66055e-10  8.96358e-10\n",
      "         122  4.38036e-10            0            0            0            0            0 -4.38036e-10            0            0            0            0            0\n",
      "         111 -8.32653e-09  6.72332e-21 -8.32653e-09  6.33821e-10  6.21975e-10 -6.33821e-10  8.32653e-09 -6.72332e-21  8.32653e-09 -6.33821e-10  -2.6871e-10  6.33821e-10\n",
      "         108  6.11656e-09 -3.65283e-21  8.65012e-09 -1.59948e-10 -1.06715e-09    1.131e-10 -6.11656e-09  3.65283e-21 -8.65012e-09  1.59948e-10  6.17674e-10   -1.131e-10\n",
      "          23   6.4682e-09  1.52201e-21   6.4682e-09  2.13189e-10 -5.72559e-10 -2.13189e-10  -6.4682e-09 -1.52201e-21  -6.4682e-09 -2.13189e-10  1.60925e-10  2.13189e-10\n",
      "          22 -5.34182e-09  1.49554e-21 -5.34182e-09  2.13189e-10  1.79026e-10 -2.13189e-10  5.34182e-09 -1.49554e-21  5.34182e-09 -2.13189e-10  1.60925e-10  2.13189e-10\n",
      "          98  6.38254e-09  6.77626e-21  1.58819e-21 -3.65149e-22  3.01494e-10  1.73052e-10 -6.38254e-09 -6.77626e-21 -1.58819e-21  3.65149e-22 -3.01494e-10 -1.73052e-10\n",
      "          75  3.09273e-09 -6.35275e-21  4.37378e-09 -7.41559e-11 -3.30957e-10  5.24362e-11 -3.09273e-09  6.35275e-21 -4.37378e-09  7.41559e-11  1.03688e-10 -5.24362e-11\n",
      "          64  3.14023e-09 -4.44692e-21  3.14023e-09  8.73231e-12 -1.40127e-10 -8.73231e-12 -3.14023e-09  4.44692e-21 -3.14023e-09 -8.73231e-12  7.35131e-11  8.73231e-12\n",
      "          34 -9.88583e-10 -8.27181e-25  1.39807e-09 -9.19684e-12 -5.67835e-11 -6.50315e-12  9.88583e-10  8.27181e-25 -1.39807e-09  9.19684e-12 -1.58622e-11  6.50315e-12\n",
      "          61 -2.76477e-09 -1.27055e-21  2.76477e-09  8.73231e-12 -7.35131e-11  8.73231e-12  2.76477e-09  1.27055e-21 -2.76477e-09 -8.73231e-12  1.48634e-11 -8.73231e-12\n",
      "          65  3.26903e-09  5.82335e-21  1.58819e-21  1.81463e-23  1.55271e-11  1.23494e-11 -3.26903e-09 -5.82335e-21 -1.58819e-21 -1.81463e-23 -1.55271e-11 -1.23494e-11\n",
      "          59 -9.38649e-10 -8.47033e-22 -9.38649e-10  2.81595e-12 -1.12833e-11 -2.81595e-12  9.38649e-10  8.47033e-22  9.38649e-10 -2.81595e-12  3.11951e-11  2.81595e-12\n",
      "          60 -5.63189e-10 -1.05879e-21 -5.63189e-10  2.81595e-12  6.63725e-13 -2.81595e-12  5.63189e-10  1.05879e-21  5.63189e-10 -2.81595e-12  1.12833e-11  2.81595e-12\n",
      "          39  -3.7546e-10  1.45584e-22   5.3098e-10   4.1359e-25 -2.29921e-11  5.58347e-24   3.7546e-10 -1.45584e-22  -5.3098e-10 -2.06795e-25 -4.59842e-12  1.65436e-24\n",
      "          36   3.7546e-10 -1.65436e-24   3.7546e-10  5.16988e-26 -1.32745e-11 -7.75482e-26  -3.7546e-10  1.65436e-24  -3.7546e-10            0  -2.6549e-12            0\n",
      "          44   3.7546e-10            0            0            0            0            0  -3.7546e-10            0            0            0            0            0\n",
      "          67   1.8773e-10  3.17637e-21  -1.8773e-10 -8.27181e-25  6.63725e-13 -1.32349e-23  -1.8773e-10 -3.17637e-21   1.8773e-10  2.48154e-24  3.31863e-12  2.81241e-23\n",
      "\n",
      "fixities reaction (kN, kN-m):\n",
      "          71 -1.52863e-21  6.74979e-21  1.31825e-08  8.96358e-10  2.66055e-10   -1.833e-22\n",
      "          78            0            0  8.76072e-10            0            0            0\n",
      "          81            0            0  1.62699e-09            0            0            0\n",
      "          82            0            0  3.23866e-09 -3.54389e-11  5.13683e-11 -6.04078e-26\n",
      "\n",
      "nodal disp (m/rad):\n",
      "           1  3.73794e-13  -8.9645e-13   3.8795e-13 -5.98369e-11  -2.6268e-11 -4.79586e-12\n",
      "           2  3.91111e-14  2.10583e-14 -1.36895e-13  1.53941e-12 -2.69029e-12  6.95887e-14\n",
      "           5 -4.80834e-12  8.32821e-12 -2.22751e-11 -1.05177e-10 -1.02636e-10 -6.56723e-12\n",
      "          16 -6.13951e-13  1.58721e-12 -3.16355e-12 -9.41549e-11 -4.96004e-11 -6.00612e-12\n",
      "          17  -2.9301e-14 -2.02147e-14 -1.42635e-14  1.15513e-12 -1.67434e-12  1.43573e-27\n",
      "          18            0            0  -6.0553e-15            0            0            0\n",
      "          19  5.12913e-13  1.11878e-12  -1.3337e-11 -1.15354e-10 -8.04981e-11 -6.00612e-12\n",
      "          21            0            0  -2.2309e-15            0            0            0\n",
      "          22            0            0 -7.69433e-15            0            0            0\n",
      "          25 -8.08044e-12  1.12825e-11 -1.60438e-11 -1.04863e-10 -1.02321e-10 -6.56723e-12\n",
      "          26 -5.01731e-12  8.13146e-12 -1.60295e-11 -1.05208e-10 -1.01888e-10 -6.56723e-12\n",
      "          29 -5.21018e-12  8.14437e-12 -1.29122e-11 -1.04338e-10 -1.02185e-10 -6.58854e-12\n",
      "          31 -6.64472e-12  9.71117e-12 -1.44765e-11 -1.04443e-10 -1.02253e-10 -6.57788e-12\n",
      "          32 -6.53449e-12   9.6129e-12 -1.45002e-11 -1.05419e-10 -1.01015e-10 -6.53419e-12\n",
      "          34 -5.04031e-12  7.93177e-12 -1.29923e-11  -1.0563e-10 -9.89043e-11 -6.56723e-12\n",
      "          35 -6.74307e-12  9.61062e-12 -1.13801e-11 -1.04338e-10 -1.02159e-10 -6.58854e-12\n",
      "          39 -2.02838e-12  4.50688e-12 -1.33648e-11 -1.10519e-10 -8.89214e-11 -6.00612e-12\n",
      "          44 -2.97774e-12  6.36236e-12 -8.02342e-12  -1.1589e-10 -6.50493e-11 -3.58646e-12\n",
      "          46 -1.51761e-13  5.11293e-13 -6.49072e-14 -2.92167e-11 -8.67205e-12  4.35653e-24\n",
      "          62 -4.36852e-14 -2.20426e-14 -9.70725e-14  1.32961e-12 -2.69029e-12  6.95887e-14\n",
      "          71            0            0            0            0            0            0\n",
      "          78            0            0            0            0            0            0\n",
      "          81            0            0            0            0            0            0\n",
      "          82            0            0            0            0            0            0\n",
      "\n",
      "***Stiffness timer result:\n",
      "SolveK: \ttotal-time: 0.000719 s, \tcount: 1, \tavg-time: 0.000719 s\n",
      "CreateGlobalK: \ttotal-time: 0.000278 s, \tcount: 1, \tavg-time: 0.000278 s\n",
      "CheckIllCond: \ttotal-time: 0.000000 s, \tcount: 0, \tavg-time: nan s\n",
      "computed result file saved successfully!\n"
     ]
    }
   ],
   "source": [
    "import os\n",
    "import time\n",
    "from deformed_frame_viz import meshcat_visualize_deformed\n",
    "cwd = os.getcwd()\n",
    "\n",
    "json_path = os.path.join(cwd, \"assembly_instances/extrusion\",\"topopt-100_S1_03-14-2019_w_layer.json\")\n",
    "# json_path = os.path.join(cwd,\"sf-test_3-frame.json\")\n",
    "# json_path = os.path.join(cwd,\"tower_3D.json\")\n",
    "# load_case_path = os.path.join(cwd,\"tower_3D_load_case.json\")\n",
    "\n",
    "vis.delete()\n",
    "disc = 10\n",
    "exagg_ratio=100.0\n",
    "time_step = 1.0\n",
    "\n",
    "with sys_pipes():\n",
    "    sc = cm.stiffness_checker(json_file_path = json_path, verbose = True)\n",
    "    sc.set_output_json(True)\n",
    "    sc.set_output_json_path(file_path = cwd, file_name = \"sf-test_result.json\")\n",
    "\n",
    "    # manually assigned point loads\n",
    "#     ext_load = np.zeros([1,7])\n",
    "#     ext_load[0,0] = 3\n",
    "#     ext_load[0,4] = -1\n",
    "    include_sw = True\n",
    "\n",
    "    # import load from a json file\n",
    "#     ext_load, include_sw = cm.parse_load_case_from_json(load_case_path)\n",
    "#     print('external load:')\n",
    "#     print(ext_load)\n",
    "#     print('include self weight : {0}'.format(include_sw))\n",
    "#     sc.set_load(nodal_forces = ext_load)\n",
    "    sc.set_self_weight_load(include_sw) # now this is true by default\n",
    "    \n",
    "    existing_ids = [125, 126, 115, 122, 111, 108, 23, 22, 98, 75, 64, 34, 61, 65, 59, 60, 39, 36, 44, 67]\n",
    "#     existing_ids = [64] # unsupported\n",
    "    \n",
    "    print(\"solve: {0}\".format(sc.solve(existing_ids)))\n",
    "    \n",
    "    # Collecting results\n",
    "#     print(\"has stored results?: {0}\".format(sc.has_stored_result()))    \n",
    "#     success, nD, fR, eR = sc.get_solved_results()\n",
    "#     print(\"pass criteria?\\n {0}\".format(success))\n",
    "#     print(\"nodal displacement?\\n {0}\".format(nD))\n",
    "#     print(\"fixities reaction?\\n {0}\".format(fR))\n",
    "#     print(\"element reaction?\\n {0}\".format(eR))\n",
    "    \n",
    "    # visualize deformed structure\n",
    "    orig_beam_shape = sc.get_original_shape(disc=disc, draw_full_shape=False)\n",
    "#     print(orig_beam_shape)\n",
    "    \n",
    "    beam_disp = sc.get_deformed_shape(exagg_ratio=exagg_ratio, disc=disc)\n",
    "#     print(beam_disp)\n",
    "    meshcat_visualize_deformed(vis, beam_disp, orig_beam_shape, disc=disc, scale=10)"
   ]
  },
  {
   "cell_type": "markdown",
   "metadata": {},
   "source": [
    "# animate deformation for a construction sequence"
   ]
  },
  {
   "cell_type": "code",
   "execution_count": 21,
   "metadata": {},
   "outputs": [],
   "source": [
    "import os\n",
    "import time\n",
    "cwd = os.getcwd()\n",
    "\n",
    "json_path = os.path.join(cwd,\"tower_3D.json\")\n",
    "# json_path = os.path.join(cwd,\"sf-test_3-frame.json\")\n",
    "load_case_path = os.path.join(cwd,\"tower_3D_load_case.json\")\n",
    "\n",
    "vis.delete()\n",
    "disc = 10\n",
    "exagg_ratio=1.0\n",
    "time_step = 1.0\n",
    "\n",
    "with sys_pipes():\n",
    "    sc = cm.stiffness_checker(json_file_path = json_path, verbose = False)\n",
    "    \n",
    "#     sc.set_output_json(True)\n",
    "#     sc.set_output_json_path(file_path = cwd, file_name = \"sf-test_result.json\")\n",
    "\n",
    "#     ext_load = np.zeros([1,7])\n",
    "#     ext_load[0,0] = 3\n",
    "#     include_sw = False\n",
    "\n",
    "#     ext_load, include_sw = cm.parse_load_case_from_json(load_case_path)\n",
    "#     print('external load:')\n",
    "#     print(ext_load)\n",
    "#     print('include self weight : {0}'.format(include_sw))\n",
    "#     sc.set_load(nodal_forces = ext_load)\n",
    "#     sc.set_self_weight_load(include_sw)\n",
    "\n",
    "    sc.set_self_weight_load(True)\n",
    "\n",
    "    for i in range(0,24):\n",
    "        vis.delete()\n",
    "        existing_ids = list(range(0,i+1))\n",
    "        sc.solve(existing_ids)\n",
    "\n",
    "        orig_beam_shape = sc.get_original_shape(disc=disc, draw_full_shape=False)\n",
    "        beam_disp = sc.get_deformed_shape(exagg_ratio=exagg_ratio, disc=disc)\n",
    "        meshcat_visualize_deformed(vis, beam_disp, orig_beam_shape, disc=disc, scale=0.5)\n",
    "        time.sleep(time_step)"
   ]
  }
 ],
 "metadata": {
  "@webio": {
   "lastCommId": null,
   "lastKernelId": null
  },
  "kernelspec": {
   "display_name": "local_py2.7",
   "language": "python",
   "name": "local_py2.7"
  },
  "language_info": {
   "codemirror_mode": {
    "name": "ipython",
    "version": 2
   },
   "file_extension": ".py",
   "mimetype": "text/x-python",
   "name": "python",
   "nbconvert_exporter": "python",
   "pygments_lexer": "ipython2",
   "version": "2.7.16"
  }
 },
 "nbformat": 4,
 "nbformat_minor": 2
}
