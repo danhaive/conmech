{
 "cells": [
  {
   "cell_type": "markdown",
   "metadata": {},
   "source": [
    "**Dependencies:**\n",
    "\n",
    "- To direct c++ std stream to Jupyter notebook:\n",
    "    `pip install wurlitzer`\n",
    "\n",
    "- Deformed frame visualization\n",
    "    Install `meshcat-python`: https://github.com/rdeits/meshcat-python"
   ]
  },
  {
   "cell_type": "code",
   "execution_count": 2,
   "metadata": {},
   "outputs": [],
   "source": [
    "%load_ext autoreload"
   ]
  },
  {
   "cell_type": "code",
   "execution_count": 3,
   "metadata": {},
   "outputs": [],
   "source": [
    "%autoreload 2"
   ]
  },
  {
   "cell_type": "code",
   "execution_count": 4,
   "metadata": {},
   "outputs": [],
   "source": [
    "import numpy as np\n",
    "import pyconmech as cm\n",
    "from wurlitzer import sys_pipes\n",
    "\n",
    "import meshcat\n",
    "\n",
    "import meshcat.geometry as g\n",
    "from deformed_frame_viz import meshcat_visualize_deformed"
   ]
  },
  {
   "cell_type": "code",
   "execution_count": 5,
   "metadata": {},
   "outputs": [
    {
     "name": "stdout",
     "output_type": "stream",
     "text": [
      "You can open the visualizer by visiting the following URL:\n",
      "http://127.0.0.1:7000/static/\n"
     ]
    },
    {
     "data": {
      "text/html": [
       "\n",
       "<div style=\"height: 400px; width: 600px; overflow-x: auto; overflow-y: hidden; resize: both\">\n",
       "<iframe src=\"http://127.0.0.1:7000/static/\" style=\"width: 100%; height: 100%; border: none\"></iframe>\n",
       "</div>\n"
      ],
      "text/plain": [
       "<IPython.core.display.HTML object>"
      ]
     },
     "execution_count": 5,
     "metadata": {},
     "output_type": "execute_result"
    }
   ],
   "source": [
    "vis = meshcat.Visualizer()\n",
    "vis.jupyter_cell()"
   ]
  },
  {
   "cell_type": "markdown",
   "metadata": {},
   "source": [
    "# check deformation for a completed structure"
   ]
  },
  {
   "cell_type": "code",
   "execution_count": 6,
   "metadata": {},
   "outputs": [
    {
     "name": "stdout",
     "output_type": "stream",
     "text": [
      "solve: True\n",
      "Node #68: No fixities info specified, assuming to be 6-dof fixed.\n",
      "Node #69: No fixities info specified, assuming to be 6-dof fixed.\n",
      "Node #70: No fixities info specified, assuming to be 6-dof fixed.\n",
      "Node #71: No fixities info specified, assuming to be 6-dof fixed.\n",
      "Node #72: No fixities info specified, assuming to be 6-dof fixed.\n",
      "Node #73: No fixities info specified, assuming to be 6-dof fixed.\n",
      "Node #74: No fixities info specified, assuming to be 6-dof fixed.\n",
      "Node #75: No fixities info specified, assuming to be 6-dof fixed.\n",
      "Node #76: No fixities info specified, assuming to be 6-dof fixed.\n",
      "Node #77: No fixities info specified, assuming to be 6-dof fixed.\n",
      "Node #78: No fixities info specified, assuming to be 6-dof fixed.\n",
      "Node #79: No fixities info specified, assuming to be 6-dof fixed.\n",
      "Node #80: No fixities info specified, assuming to be 6-dof fixed.\n",
      "Node #81: No fixities info specified, assuming to be 6-dof fixed.\n",
      "Node #82: No fixities info specified, assuming to be 6-dof fixed.\n",
      "Node #83: No fixities info specified, assuming to be 6-dof fixed.\n",
      "Node #84: No fixities info specified, assuming to be 6-dof fixed.\n",
      "Node #85: No fixities info specified, assuming to be 6-dof fixed.\n",
      "Node #86: No fixities info specified, assuming to be 6-dof fixed.\n",
      "Node #87: No fixities info specified, assuming to be 6-dof fixed.\n",
      "Initialization done\n",
      "element reaction (kN, kN-m):\n",
      "         125  4.28024e-12            0            0            0            0            0 -4.28024e-12            0            0            0            0            0\n",
      "         126  1.00823e-11 -1.12445e-24   1.9387e-26 -4.47061e-26 -1.84926e-13   1.2758e-13 -1.00823e-11  1.12445e-24  -1.9387e-26  4.47061e-26  1.84926e-13  -1.2758e-13\n",
      "         115  4.58802e-11 -1.21885e-21 -9.45752e-22 -1.51711e-22 -9.57799e-13 -3.22689e-12 -4.58802e-11  1.21885e-21  9.45752e-22  1.51711e-22  9.57799e-13  3.22689e-12\n",
      "         122  1.57693e-12            0            0            0            0            0 -1.57693e-12            0            0            0            0            0\n",
      "         111 -2.99755e-11  1.21885e-21 -2.99755e-11  2.28176e-12  2.23911e-12 -2.28176e-12  2.99755e-11 -1.21885e-21  2.99755e-11 -2.28176e-12 -9.67357e-13  2.28176e-12\n",
      "         108  2.20196e-11 -1.52553e-21  3.11404e-11 -5.75813e-13 -3.84173e-12  4.07161e-13 -2.20196e-11  1.52553e-21 -3.11404e-11  5.75813e-13  2.22363e-12 -4.07161e-13\n",
      "          23  2.32855e-11 -9.41642e-22  2.32855e-11  7.67479e-13 -2.06121e-12 -7.67479e-13 -2.32855e-11  9.41642e-22 -2.32855e-11 -7.67479e-13  5.79331e-13  7.67479e-13\n",
      "          22 -1.92305e-11 -9.41849e-22 -1.92305e-11  7.67479e-13  6.44493e-13 -7.67479e-13  1.92305e-11  9.41849e-22  1.92305e-11 -7.67479e-13  5.79331e-13  7.67479e-13\n",
      "          98  2.29771e-11  1.12372e-21 -9.41745e-22 -3.91362e-23  1.08538e-12  6.22988e-13 -2.29771e-11 -1.12372e-21  9.41745e-22  3.91362e-23 -1.08538e-12 -6.22988e-13\n",
      "          75  1.11338e-11 -2.48568e-22  1.57456e-11 -2.66961e-13 -1.19144e-12   1.8877e-13 -1.11338e-11  2.48568e-22 -1.57456e-11  2.66961e-13  3.73278e-13  -1.8877e-13\n",
      "          64  1.13048e-11 -1.28792e-21  1.13048e-11  3.14363e-14 -5.04459e-13 -3.14363e-14 -1.13048e-11  1.28792e-21 -1.13048e-11 -3.14363e-14  2.64647e-13  3.14363e-14\n",
      "          34  -3.5589e-12 -9.17653e-25  5.03304e-12 -3.31086e-14 -2.04421e-13 -2.34113e-14   3.5589e-12  9.17653e-25 -5.03304e-12  3.31086e-14  -5.7104e-14  2.34113e-14\n",
      "          61 -9.95318e-12 -1.29785e-21  9.95318e-12  3.14363e-14 -2.64647e-13  3.14363e-14  9.95318e-12  1.29785e-21 -9.95318e-12 -3.14363e-14  5.35082e-14 -3.14363e-14\n",
      "          65  1.17685e-11  1.29785e-21 -2.96131e-22  8.63652e-24  5.58976e-14  4.44577e-14 -1.17685e-11 -1.29785e-21  2.96131e-22 -8.63652e-24 -5.58976e-14 -4.44577e-14\n",
      "          59 -3.37914e-12  2.75451e-22 -3.37914e-12  1.01374e-14   -4.062e-14 -1.01374e-14  3.37914e-12 -2.75451e-22  3.37914e-12 -1.01374e-14  1.12302e-13  1.01374e-14\n",
      "          60 -2.02748e-12  2.82896e-22 -2.02748e-12  1.01374e-14  2.38941e-15 -1.01374e-14  2.02748e-12 -2.82896e-22  2.02748e-12 -1.01374e-14    4.062e-14  1.01374e-14\n",
      "          39 -1.35165e-12  3.87741e-24  1.91153e-12 -3.23117e-27 -8.27716e-14  3.04538e-25  1.35165e-12 -3.87741e-24 -1.91153e-12  4.03897e-27 -1.65543e-14  1.77715e-26\n",
      "          36  1.35165e-12 -3.23117e-27  1.35165e-12 -1.00974e-28 -4.77882e-14  7.57306e-28 -1.35165e-12  3.23117e-27 -1.35165e-12            0 -9.55764e-15  1.00974e-28\n",
      "          44  1.35165e-12            0            0            0            0            0 -1.35165e-12            0            0            0            0            0\n",
      "          67  6.75827e-13  3.72231e-24 -6.75827e-13 -3.23117e-27  2.38941e-15  8.07794e-26 -6.75827e-13 -3.72231e-24  6.75827e-13 -9.69352e-27  1.19471e-14   1.0986e-25\n",
      "\n",
      "fixities reaction (kN, kN-m):\n",
      "          71  9.45752e-22  1.21885e-21  4.74572e-11  3.22689e-12  9.57799e-13 -1.51711e-22\n",
      "          78            0            0  3.15386e-12            0            0            0\n",
      "          81            0            0  5.85717e-12            0            0            0\n",
      "          82  -1.9387e-26  1.12445e-24  1.16592e-11  -1.2758e-13  1.84926e-13 -4.47061e-26\n",
      "\n",
      "nodal disp (m/rad):\n",
      "           1  9.37711e-11 -2.49014e-10  1.35789e-10 -1.66214e-08 -7.29666e-09 -1.33218e-09\n",
      "           2  1.20587e-11  7.04399e-12 -3.28842e-11  4.27614e-10 -7.47302e-10  1.93302e-11\n",
      "           5 -1.35661e-09  2.31863e-09 -6.11128e-09  -2.9216e-08   -2.851e-08 -1.82423e-09\n",
      "          16 -1.87993e-10  4.48281e-10 -8.43349e-10 -2.61541e-08 -1.37779e-08 -1.66837e-09\n",
      "          17 -8.13918e-12  -5.6152e-12 -1.42635e-14  3.20869e-10 -4.65096e-10  8.19862e-23\n",
      "          18            0            0  -6.0553e-15            0            0            0\n",
      "          19  1.25025e-10  3.20204e-10 -3.64789e-09 -3.20428e-08 -2.23606e-08 -1.66837e-09\n",
      "          21            0            0  -2.2309e-15            0            0            0\n",
      "          22            0            0 -7.69433e-15            0            0            0\n",
      "          25 -2.26598e-09  3.13973e-09 -4.38081e-09 -2.91285e-08 -2.84226e-08 -1.82423e-09\n",
      "          26 -1.41511e-09  2.26443e-09  -4.3808e-09 -2.92244e-08 -2.83021e-08 -1.82423e-09\n",
      "          29 -1.46869e-09  2.26893e-09 -3.51002e-09 -2.89828e-08 -2.83848e-08 -1.83015e-09\n",
      "          31 -1.86717e-09  2.70381e-09  -3.9449e-09  -2.9012e-08 -2.84037e-08 -1.82719e-09\n",
      "          32 -1.83822e-09  2.67594e-09 -3.95768e-09  -2.9283e-08 -2.80596e-08 -1.81505e-09\n",
      "          34 -1.42127e-09  2.20897e-09 -3.54072e-09 -2.93416e-08 -2.74734e-08 -1.82423e-09\n",
      "          35 -1.89438e-09  2.67622e-09 -3.08433e-09 -2.89828e-08 -2.83775e-08 -1.83015e-09\n",
      "          39  -5.8089e-10  1.26134e-09 -3.64792e-09 -3.06998e-08 -2.47004e-08 -1.66837e-09\n",
      "          44   -8.446e-10  1.78643e-09 -2.18159e-09 -3.21918e-08 -1.80692e-08 -9.96238e-10\n",
      "          46 -4.21558e-11  1.42026e-10 -6.49072e-14 -8.11576e-09  -2.4089e-09  2.78221e-19\n",
      "          62 -1.09403e-11 -4.47484e-12 -2.13687e-11  3.69337e-10 -7.47302e-10  1.93302e-11\n",
      "          71            0            0            0            0            0            0\n",
      "          78            0            0            0            0            0            0\n",
      "          81            0            0            0            0            0            0\n",
      "          82            0            0            0            0            0            0\n",
      "\n",
      "***Stiffness timer result:\n",
      "SolveK: \ttotal-time: 0.000523 s, \tcount: 1, \tavg-time: 0.000523 s\n",
      "CreateGlobalK: \ttotal-time: 0.000578 s, \tcount: 1, \tavg-time: 0.000578 s\n",
      "CheckIllCond: \ttotal-time: 0.000000 s, \tcount: 0, \tavg-time: nan s\n",
      "computed result file saved successfully!\n"
     ]
    }
   ],
   "source": [
    "import os\n",
    "import time\n",
    "from deformed_frame_viz import meshcat_visualize_deformed\n",
    "cwd = os.getcwd()\n",
    "\n",
    "json_path = os.path.join(cwd, \"assembly_instances/extrusion\",\"topopt-100_S1_03-14-2019_w_layer.json\")\n",
    "# json_path = os.path.join(cwd,\"sf-test_3-frame.json\")\n",
    "# json_path = os.path.join(cwd,\"tower_3D.json\")\n",
    "# load_case_path = os.path.join(cwd,\"tower_3D_load_case.json\")\n",
    "\n",
    "vis.delete()\n",
    "disc = 10\n",
    "exagg_ratio=100.0\n",
    "time_step = 1.0\n",
    "\n",
    "with sys_pipes():\n",
    "    sc = cm.stiffness_checker(json_file_path = json_path, verbose = True)\n",
    "    sc.set_output_json(True)\n",
    "    sc.set_output_json_path(file_path = cwd, file_name = \"sf-test_result.json\")\n",
    "\n",
    "    # manually assigned point loads\n",
    "#     ext_load = np.zeros([1,7])\n",
    "#     ext_load[0,0] = 3\n",
    "#     ext_load[0,4] = -1\n",
    "    include_sw = True\n",
    "\n",
    "    # import load from a json file\n",
    "#     ext_load, include_sw = cm.parse_load_case_from_json(load_case_path)\n",
    "#     print('external load:')\n",
    "#     print(ext_load)\n",
    "#     print('include self weight : {0}'.format(include_sw))\n",
    "#     sc.set_load(nodal_forces = ext_load)\n",
    "    sc.set_self_weight_load(include_sw) # now this is true by default\n",
    "    \n",
    "    existing_ids = [125, 126, 115, 122, 111, 108, 23, 22, 98, 75, 64, 34, 61, 65, 59, 60, 39, 36, 44, 67]\n",
    "#     existing_ids = [64] # unsupported\n",
    "    \n",
    "    print(\"solve: {0}\".format(sc.solve(existing_ids)))\n",
    "    \n",
    "    # Collecting results\n",
    "#     print(\"has stored results?: {0}\".format(sc.has_stored_result()))    \n",
    "#     success, nD, fR, eR = sc.get_solved_results()\n",
    "#     print(\"pass criteria?\\n {0}\".format(success))\n",
    "#     print(\"nodal displacement?\\n {0}\".format(nD))\n",
    "#     print(\"fixities reaction?\\n {0}\".format(fR))\n",
    "#     print(\"element reaction?\\n {0}\".format(eR))\n",
    "    \n",
    "    # visualize deformed structure\n",
    "    orig_beam_shape = sc.get_original_shape(disc=disc, draw_full_shape=False)\n",
    "#     print(orig_beam_shape)\n",
    "    \n",
    "    beam_disp = sc.get_deformed_shape(exagg_ratio=exagg_ratio, disc=disc)\n",
    "#     print(beam_disp)\n",
    "    meshcat_visualize_deformed(vis, beam_disp, orig_beam_shape, disc=disc, scale=10)"
   ]
  },
  {
   "cell_type": "markdown",
   "metadata": {},
   "source": [
    "# animate deformation for a construction sequence"
   ]
  },
  {
   "cell_type": "code",
   "execution_count": 7,
   "metadata": {},
   "outputs": [],
   "source": [
    "import os\n",
    "import time\n",
    "cwd = os.getcwd()\n",
    "\n",
    "json_path = os.path.join(cwd,\"tower_3D.json\")\n",
    "# json_path = os.path.join(cwd,\"sf-test_3-frame.json\")\n",
    "load_case_path = os.path.join(cwd,\"tower_3D_load_case.json\")\n",
    "\n",
    "vis.delete()\n",
    "disc = 10\n",
    "exagg_ratio=1.0\n",
    "time_step = 1.0\n",
    "\n",
    "with sys_pipes():\n",
    "    sc = cm.stiffness_checker(json_file_path = json_path, verbose = False)\n",
    "    \n",
    "#     sc.set_output_json(True)\n",
    "#     sc.set_output_json_path(file_path = cwd, file_name = \"sf-test_result.json\")\n",
    "\n",
    "#     ext_load = np.zeros([1,7])\n",
    "#     ext_load[0,0] = 3\n",
    "#     include_sw = False\n",
    "\n",
    "#     ext_load, include_sw = cm.parse_load_case_from_json(load_case_path)\n",
    "#     print('external load:')\n",
    "#     print(ext_load)\n",
    "#     print('include self weight : {0}'.format(include_sw))\n",
    "#     sc.set_load(nodal_forces = ext_load)\n",
    "#     sc.set_self_weight_load(include_sw)\n",
    "\n",
    "    sc.set_self_weight_load(True)\n",
    "\n",
    "    for i in range(0,24):\n",
    "        vis.delete()\n",
    "        existing_ids = list(range(0,i+1))\n",
    "        sc.solve(existing_ids)\n",
    "\n",
    "        orig_beam_shape = sc.get_original_shape(disc=disc, draw_full_shape=False)\n",
    "        beam_disp = sc.get_deformed_shape(exagg_ratio=exagg_ratio, disc=disc)\n",
    "        meshcat_visualize_deformed(vis, beam_disp, orig_beam_shape, disc=disc, scale=0.5)\n",
    "        time.sleep(time_step)"
   ]
  }
 ],
 "metadata": {
  "@webio": {
   "lastCommId": null,
   "lastKernelId": null
  },
  "kernelspec": {
   "display_name": "local_py2.7",
   "language": "python",
   "name": "local_py2.7"
  },
  "language_info": {
   "codemirror_mode": {
    "name": "ipython",
    "version": 2
   },
   "file_extension": ".py",
   "mimetype": "text/x-python",
   "name": "python",
   "nbconvert_exporter": "python",
   "pygments_lexer": "ipython2",
   "version": "2.7.16"
  }
 },
 "nbformat": 4,
 "nbformat_minor": 2
}
