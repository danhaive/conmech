{
 "cells": [
  {
   "cell_type": "code",
   "execution_count": 1,
   "metadata": {},
   "outputs": [],
   "source": [
    "# pip install wurlitzer\n",
    "# direct c++ std stream to Jupyter notebook"
   ]
  },
  {
   "cell_type": "code",
   "execution_count": 1,
   "metadata": {},
   "outputs": [],
   "source": [
    "import numpy as np\n",
    "import pyconmech as cm\n",
    "from wurlitzer import sys_pipes"
   ]
  },
  {
   "cell_type": "code",
   "execution_count": 6,
   "metadata": {},
   "outputs": [
    {
     "name": "stdout",
     "output_type": "stream",
     "text": [
      "Initialization done\n",
      "element reaction (kN, kN-m):\n",
      "           0 -3.23666e-10    -0.283011 -2.47506e-11   -0.0581382  5.10473e-12   -0.0647463  3.23666e-10     0.283011  2.47506e-11    0.0581382  2.51072e-11    -0.280713\n",
      "           1     0.977841     0.141506     0.385312    0.0290691    -0.121015    0.0323731    -0.977841    -0.141506    -0.385312   -0.0290691    -0.349318     0.140357\n",
      "           2    -0.977841     0.141506    -0.385312    0.0290691     0.121015    0.0323731     0.977841    -0.141506     0.385312   -0.0290691     0.349318     0.140357\n",
      "\n",
      "fixities reaction (kN, kN-m):\n",
      "           0  1.65334e-10     0.283011 -2.79351e-10   -0.0197021 -5.10473e-12   -0.0847583\n",
      "           1     0.245095    -0.141506      1.02204    -0.109728   -0.0519764    0.0423791\n",
      "           2    -0.245095    -0.141506     -1.02204    -0.109728    0.0519764    0.0423791\n",
      "\n",
      "nodal disp (m/rad):\n",
      "           0            0            0            0            0            0            0\n",
      "           1            0            0            0            0            0            0\n",
      "           2            0            0            0            0            0            0\n",
      "           3  -1.0199e-18  5.82876e-09  4.55661e-19 -2.49732e-08 -1.89486e-18  3.56084e-17\n",
      "\n",
      "***Stiffness timer result:\n",
      "SolveK: \ttotal-time: 0.000018 s, \tcount: 1, \tavg-time: 0.000018 s\n",
      "CreateGlobalK: \ttotal-time: 0.000031 s, \tcount: 1, \tavg-time: 0.000031 s\n",
      "CheckIllCond: \ttotal-time: 0.000000 s, \tcount: 0, \tavg-time: nan s\n",
      "path file saved successfully!\n"
     ]
    }
   ],
   "source": [
    "import os \n",
    "cwd = os.getcwd()\n",
    "\n",
    "json_path = cwd + \"/sf-test_3-frame.json\"\n",
    "\n",
    "with sys_pipes():\n",
    "    sc = cm.stiffness_checker(json_file_path = json_path, verbose = True)\n",
    "    sc.set_output_json(True)\n",
    "    sc.set_output_json_path(file_path = cwd, file_name = \"/sf-test_result.json\")\n",
    "\n",
    "    ext_load = np.zeros([1,7])\n",
    "    ext_load[0,0] = 3\n",
    "    ext_load[0,4] = -1\n",
    "    sc.set_load(nodal_forces = ext_load)\n",
    "\n",
    "#     sc.set_self_weight_load(True)\n",
    "\n",
    "    # TODO: this causes python to crash, check reason\n",
    "    sc.solve()"
   ]
  }
 ],
 "metadata": {
  "@webio": {
   "lastCommId": null,
   "lastKernelId": null
  },
  "kernelspec": {
   "display_name": "local_py2.7",
   "language": "python",
   "name": "local_py2.7"
  },
  "language_info": {
   "codemirror_mode": {
    "name": "ipython",
    "version": 2
   },
   "file_extension": ".py",
   "mimetype": "text/x-python",
   "name": "python",
   "nbconvert_exporter": "python",
   "pygments_lexer": "ipython2",
   "version": "2.7.16"
  }
 },
 "nbformat": 4,
 "nbformat_minor": 2
}
