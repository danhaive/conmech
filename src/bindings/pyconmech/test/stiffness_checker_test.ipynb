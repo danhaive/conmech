{
 "cells": [
  {
   "cell_type": "markdown",
   "metadata": {},
   "source": [
    "**Dependencies:**\n",
    "\n",
    "- To direct c++ std stream to Jupyter notebook:\n",
    "    `pip install wurlitzer`\n",
    "\n",
    "- Deformed frame visualization\n",
    "    Install `meshcat-python`: https://github.com/rdeits/meshcat-python"
   ]
  },
  {
   "cell_type": "code",
   "execution_count": 1,
   "metadata": {},
   "outputs": [],
   "source": [
    "%load_ext autoreload"
   ]
  },
  {
   "cell_type": "code",
   "execution_count": 2,
   "metadata": {},
   "outputs": [],
   "source": [
    "%autoreload 2"
   ]
  },
  {
   "cell_type": "code",
   "execution_count": 3,
   "metadata": {},
   "outputs": [],
   "source": [
    "import numpy as np\n",
    "import pyconmech as cm\n",
    "from wurlitzer import sys_pipes\n",
    "\n",
    "import meshcat\n",
    "import meshcat.geometry as g\n",
    "from deformed_frame_viz import meshcat_visualize_deformed"
   ]
  },
  {
   "cell_type": "code",
   "execution_count": 4,
   "metadata": {},
   "outputs": [
    {
     "name": "stdout",
     "output_type": "stream",
     "text": [
      "You can open the visualizer by visiting the following URL:\n",
      "http://127.0.0.1:7002/static/\n"
     ]
    },
    {
     "data": {
      "text/html": [
       "\n",
       "<div style=\"height: 400px; width: 600px; overflow-x: auto; overflow-y: hidden; resize: both\">\n",
       "<iframe src=\"http://127.0.0.1:7002/static/\" style=\"width: 100%; height: 100%; border: none\"></iframe>\n",
       "</div>\n"
      ],
      "text/plain": [
       "<IPython.core.display.HTML object>"
      ]
     },
     "execution_count": 4,
     "metadata": {},
     "output_type": "execute_result"
    }
   ],
   "source": [
    "vis = meshcat.Visualizer()\n",
    "vis.jupyter_cell()"
   ]
  },
  {
   "cell_type": "markdown",
   "metadata": {},
   "source": [
    "# check deformation for a completed structure"
   ]
  },
  {
   "cell_type": "code",
   "execution_count": 10,
   "metadata": {},
   "outputs": [
    {
     "name": "stdout",
     "output_type": "stream",
     "text": [
      "external load:\n",
      "[[   5.       0.      11.125    0.       0.       0.       0.   ]\n",
      " [   7.       0.      11.125    0.       0.       0.       0.   ]\n",
      " [   8.     222.5     22.25  -111.25     0.       0.       0.   ]\n",
      " [   9.     222.5      0.    -111.25     0.       0.       0.   ]]\n",
      "include self weight : False\n",
      "computed result file saved successfully!\n"
     ]
    }
   ],
   "source": [
    "import os\n",
    "import time\n",
    "cwd = os.getcwd()\n",
    "\n",
    "json_path = os.path.join(cwd,\"tower_3D.json\")\n",
    "# json_path = os.path.join(cwd,\"sf-test_3-frame.json\")\n",
    "load_case_path = os.path.join(cwd,\"tower_3D_load_case.json\")\n",
    "\n",
    "vis.delete()\n",
    "disc = 10\n",
    "exagg_ratio=10.0\n",
    "time_step = 1.0\n",
    "\n",
    "with sys_pipes():\n",
    "    sc = cm.stiffness_checker(json_file_path = json_path, verbose = False)\n",
    "    sc.set_output_json(True)\n",
    "    sc.set_output_json_path(file_path = cwd, file_name = \"sf-test_result.json\")\n",
    "\n",
    "    # manually assigned point loads\n",
    "#     ext_load = np.zeros([1,7])\n",
    "#     ext_load[0,0] = 3\n",
    "#     ext_load[0,4] = -1\n",
    "#     include_sw = False\n",
    "\n",
    "    # import load from a json file\n",
    "    ext_load, include_sw = cm.parse_load_case_from_json(load_case_path)\n",
    "    print('external load:')\n",
    "    print(ext_load)\n",
    "    print('include self weight : {0}'.format(include_sw))\n",
    "    sc.set_load(nodal_forces = ext_load)\n",
    "    sc.set_self_weight_load(include_sw)\n",
    "    \n",
    "    sc.solve()\n",
    "    \n",
    "    # visualize deformed structure\n",
    "    orig_beam_shape = sc.get_original_shape(disc=disc, draw_full_shape=False)\n",
    "    beam_disp = sc.get_deformed_shape(exagg_ratio=exagg_ratio, disc=disc)\n",
    "    meshcat_visualize_deformed(vis, beam_disp, orig_beam_shape, disc=disc, scale=0.5)"
   ]
  },
  {
   "cell_type": "markdown",
   "metadata": {},
   "source": [
    "# animate deformation for a construction sequence"
   ]
  },
  {
   "cell_type": "code",
   "execution_count": 11,
   "metadata": {},
   "outputs": [],
   "source": [
    "import os\n",
    "import time\n",
    "cwd = os.getcwd()\n",
    "\n",
    "json_path = os.path.join(cwd,\"tower_3D.json\")\n",
    "# json_path = os.path.join(cwd,\"sf-test_3-frame.json\")\n",
    "load_case_path = os.path.join(cwd,\"tower_3D_load_case.json\")\n",
    "\n",
    "vis.delete()\n",
    "disc = 10\n",
    "exagg_ratio=1.0\n",
    "time_step = 1.0\n",
    "\n",
    "with sys_pipes():\n",
    "    sc = cm.stiffness_checker(json_file_path = json_path, verbose = False)\n",
    "    \n",
    "#     sc.set_output_json(True)\n",
    "#     sc.set_output_json_path(file_path = cwd, file_name = \"sf-test_result.json\")\n",
    "\n",
    "#     ext_load = np.zeros([1,7])\n",
    "#     ext_load[0,0] = 3\n",
    "#     ext_load[0,4] = -1\n",
    "#     include_sw = False\n",
    "\n",
    "#     ext_load, include_sw = cm.parse_load_case_from_json(load_case_path)\n",
    "#     print('external load:')\n",
    "#     print(ext_load)\n",
    "#     print('include self weight : {0}'.format(include_sw))\n",
    "#     sc.set_load(nodal_forces = ext_load)\n",
    "#     sc.set_self_weight_load(include_sw)\n",
    "\n",
    "    sc.set_self_weight_load(True)\n",
    "\n",
    "    for i in range(0,24):\n",
    "        vis.delete()\n",
    "        existing_ids = list(range(0,i+1))\n",
    "        sc.solve(existing_ids)\n",
    "\n",
    "        orig_beam_shape = sc.get_original_shape(disc=disc, draw_full_shape=False)\n",
    "        beam_disp = sc.get_deformed_shape(exagg_ratio=exagg_ratio, disc=disc)\n",
    "        meshcat_visualize_deformed(vis, beam_disp, orig_beam_shape, disc=disc, scale=0.5)\n",
    "        time.sleep(time_step)"
   ]
  }
 ],
 "metadata": {
  "@webio": {
   "lastCommId": null,
   "lastKernelId": null
  },
  "kernelspec": {
   "display_name": "local_py2.7",
   "language": "python",
   "name": "local_py2.7"
  },
  "language_info": {
   "codemirror_mode": {
    "name": "ipython",
    "version": 2
   },
   "file_extension": ".py",
   "mimetype": "text/x-python",
   "name": "python",
   "nbconvert_exporter": "python",
   "pygments_lexer": "ipython2",
   "version": "2.7.16"
  }
 },
 "nbformat": 4,
 "nbformat_minor": 2
}
