{
 "cells": [
  {
   "cell_type": "markdown",
   "metadata": {},
   "source": [
    "**Dependencies:**\n",
    "\n",
    "- To direct c++ std stream to Jupyter notebook:\n",
    "    `pip install wurlitzer`\n",
    "\n",
    "- Deformed frame visualization\n",
    "    Install `meshcat-python`: https://github.com/rdeits/meshcat-python"
   ]
  },
  {
   "cell_type": "code",
   "execution_count": 1,
   "metadata": {},
   "outputs": [],
   "source": [
    "%load_ext autoreload"
   ]
  },
  {
   "cell_type": "code",
   "execution_count": 2,
   "metadata": {},
   "outputs": [],
   "source": [
    "%autoreload 2"
   ]
  },
  {
   "cell_type": "code",
   "execution_count": 3,
   "metadata": {},
   "outputs": [],
   "source": [
    "import numpy as np\n",
    "import pyconmech as cm\n",
    "from wurlitzer import sys_pipes\n",
    "\n",
    "import meshcat\n",
    "\n",
    "import meshcat.geometry as g\n",
    "from deformed_frame_viz import meshcat_visualize_deformed"
   ]
  },
  {
   "cell_type": "code",
   "execution_count": 4,
   "metadata": {},
   "outputs": [
    {
     "name": "stdout",
     "output_type": "stream",
     "text": [
      "You can open the visualizer by visiting the following URL:\n",
      "http://127.0.0.1:7000/static/\n"
     ]
    },
    {
     "data": {
      "text/html": [
       "\n",
       "<div style=\"height: 400px; width: 600px; overflow-x: auto; overflow-y: hidden; resize: both\">\n",
       "<iframe src=\"http://127.0.0.1:7000/static/\" style=\"width: 100%; height: 100%; border: none\"></iframe>\n",
       "</div>\n"
      ],
      "text/plain": [
       "<IPython.core.display.HTML object>"
      ]
     },
     "execution_count": 4,
     "metadata": {},
     "output_type": "execute_result"
    }
   ],
   "source": [
    "vis = meshcat.Visualizer()\n",
    "vis.jupyter_cell()"
   ]
  },
  {
   "cell_type": "markdown",
   "metadata": {},
   "source": [
    "# check deformation for a completed structure"
   ]
  },
  {
   "cell_type": "code",
   "execution_count": 8,
   "metadata": {},
   "outputs": [
    {
     "name": "stdout",
     "output_type": "stream",
     "text": [
      "solve: False\n",
      "\n",
      "\n",
      "Node #68: No fixities info specified, assuming to be 6-dof fixed.\n",
      "Node #69: No fixities info specified, assuming to be 6-dof fixed.\n",
      "Node #70: No fixities info specified, assuming to be 6-dof fixed.\n",
      "Node #71: No fixities info specified, assuming to be 6-dof fixed.\n",
      "Node #72: No fixities info specified, assuming to be 6-dof fixed.\n",
      "Node #73: No fixities info specified, assuming to be 6-dof fixed.\n",
      "Node #74: No fixities info specified, assuming to be 6-dof fixed.\n",
      "Node #75: No fixities info specified, assuming to be 6-dof fixed.\n",
      "Node #76: No fixities info specified, assuming to be 6-dof fixed.\n",
      "Node #77: No fixities info specified, assuming to be 6-dof fixed.\n",
      "Node #78: No fixities info specified, assuming to be 6-dof fixed.\n",
      "Node #79: No fixities info specified, assuming to be 6-dof fixed.\n",
      "Node #80: No fixities info specified, assuming to be 6-dof fixed.\n",
      "Node #81: No fixities info specified, assuming to be 6-dof fixed.\n",
      "Node #82: No fixities info specified, assuming to be 6-dof fixed.\n",
      "Node #83: No fixities info specified, assuming to be 6-dof fixed.\n",
      "Node #84: No fixities info specified, assuming to be 6-dof fixed.\n",
      "Node #85: No fixities info specified, assuming to be 6-dof fixed.\n",
      "Node #86: No fixities info specified, assuming to be 6-dof fixed.\n",
      "Node #87: No fixities info specified, assuming to be 6-dof fixed.\n",
      "Initialization done\n",
      "element reaction (kN, kN-m):\n",
      "         124  1.86348e-05 -1.66018e-19 -5.27278e-20  -6.1507e-23  1.10004e-08 -1.35071e-07 -1.86348e-05  1.66018e-19  5.27278e-20   6.1507e-23 -1.10004e-08  1.35071e-07\n",
      "         126    5.458e-05  2.14293e-16 -5.62755e-16 -3.20377e-17  1.77461e-06 -1.45489e-06   -5.458e-05 -2.14293e-16  5.62755e-16  3.20377e-17 -1.77461e-06  1.45489e-06\n",
      "         127  6.01871e-06   5.0822e-21 -6.77626e-21  1.50624e-21  6.75355e-08  6.75355e-08 -6.01871e-06  -5.0822e-21  6.77626e-21 -1.50624e-21 -6.75355e-08 -6.75355e-08\n",
      "         125  1.51634e-06            0            0            0            0            0 -1.51634e-06            0            0            0            0            0\n",
      "          53  4.62497e-05 -2.17057e-16 -5.61942e-16 -3.20355e-17 -1.77461e-06 -1.33082e-06 -4.62497e-05  2.17057e-16  5.61942e-16  3.20355e-17  1.77461e-06  1.33082e-06\n",
      "          48  2.25297e-05  -5.5545e-16 -3.18619e-05 -2.88056e-07 -5.63355e-07 -2.03686e-07 -2.25297e-05   5.5545e-16  3.18619e-05  2.88056e-07  2.21895e-06  2.03686e-07\n",
      "          71  3.54717e-05 -2.14997e-16 -5.71808e-16 -8.54789e-18 -6.59072e-07 -1.60144e-07 -3.54717e-05  2.14997e-16  5.71808e-16  8.54789e-18  6.59072e-07  1.60144e-07\n",
      "          58 -9.52492e-06 -1.36609e-16  9.52492e-06 -1.33126e-07 -3.60453e-07 -1.33126e-07  9.52492e-06  1.36609e-16 -9.52492e-06  1.33126e-07  1.58399e-07  1.33126e-07\n",
      "          57 -8.22519e-06 -1.38778e-16  8.22519e-06 -1.33126e-07 -1.58399e-07 -1.33126e-07  8.22519e-06  1.38778e-16 -8.22519e-06  1.33126e-07 -1.60832e-08  1.33126e-07\n",
      "          65  9.41342e-06 -1.92663e-16 -1.38995e-16 -5.74523e-18 -1.88268e-07  1.37856e-08 -9.41342e-06  1.92663e-16  1.38995e-16  5.74523e-18  1.88268e-07 -1.37856e-08\n",
      "          63 -5.08739e-06 -1.91253e-16 -5.08739e-06 -9.74791e-09 -7.80509e-08  9.74791e-09  5.08739e-06  1.91253e-16  5.08739e-06  9.74791e-09  1.85971e-07 -9.74791e-09\n",
      "          21  1.94958e-06 -8.47033e-22  1.94958e-06            0 -1.03392e-07 -1.72054e-22 -1.94958e-06  8.47033e-22 -1.94958e-06  2.64698e-23 -2.06784e-08 -7.94093e-23\n",
      "          69  -1.0155e-05 -1.30104e-17  -1.0155e-05 -9.55096e-08 -3.20622e-07  9.55096e-08   1.0155e-05  1.30104e-17   1.0155e-05  9.55096e-08  5.36041e-07 -9.55096e-08\n",
      "          64 -3.78767e-06 -1.90169e-16 -3.78767e-06 -9.74791e-09   2.2976e-09  9.74791e-09  3.78767e-06  1.90169e-16  3.78767e-06  9.74791e-09  7.80509e-08 -9.74791e-09\n",
      "          82  1.29972e-06 -5.42101e-19   2.1684e-19            0  1.52466e-20  6.77626e-21 -1.29972e-06  5.42101e-19  -2.1684e-19            0  3.38813e-21            0\n",
      "          70 -8.85525e-06 -1.34441e-17 -8.85525e-06 -9.55096e-08 -1.32773e-07  9.55096e-08  8.85525e-06  1.34441e-17  8.85525e-06  9.55096e-08  3.20622e-07 -9.55096e-08\n",
      "          18  1.94958e-06 -1.35525e-20  1.94958e-06  2.11758e-22 -1.03392e-07 -3.59989e-21 -1.94958e-06  1.35525e-20 -1.94958e-06  1.05879e-22 -2.06784e-08            0\n",
      "          91 -1.29972e-06  1.69407e-21 -1.83808e-06  2.64698e-23  1.59183e-08  1.32349e-22  1.29972e-06 -1.69407e-21  1.83808e-06  7.94093e-23  7.95914e-08  9.31736e-21\n",
      "          85  5.80209e-06 -1.02999e-17 -6.93889e-18  7.47123e-19 -6.75355e-08  6.75355e-08 -5.80209e-06  1.02999e-17  6.93889e-18 -7.47123e-19  6.75355e-08 -6.75355e-08\n",
      "          47 -1.29972e-06  2.35814e-18  1.83808e-06 -2.11758e-21 -7.95914e-08  2.58769e-19  1.29972e-06 -2.35814e-18 -1.83808e-06  1.69407e-21 -1.59183e-08 -5.92923e-21\n",
      "          84 -1.29972e-06  3.25261e-18 -1.83808e-06 -1.69407e-21  1.59183e-08  4.23516e-21  1.29972e-06 -3.25261e-18  1.83808e-06   5.0822e-21  7.95914e-08  9.06325e-19\n",
      "          78  6.49861e-07  -2.1684e-18 -6.49861e-07 -1.01644e-20   2.2976e-09  -2.5411e-20 -6.49861e-07   2.1684e-18  6.49861e-07  3.38813e-21   1.1488e-08 -2.37169e-20\n",
      "          89  1.29972e-06            0 -1.83808e-06  3.97047e-23  1.59183e-08  1.32349e-23 -1.29972e-06            0  1.83808e-06  2.64698e-23  7.95914e-08 -9.29089e-21\n",
      "         108 -1.29972e-06  3.59989e-20 -1.83808e-06 -1.32349e-23  1.59183e-08 -6.61744e-24  1.29972e-06 -3.59989e-20  1.83808e-06  6.61744e-24  7.95914e-08  1.83303e-21\n",
      "          86 -1.29972e-06  3.36103e-18 -1.83808e-06 -1.69407e-21  1.59183e-08  1.01644e-20  1.29972e-06 -3.36103e-18  1.83808e-06   5.0822e-21  7.95914e-08  9.08019e-19\n",
      "          98  1.29972e-06  1.35525e-20  8.47033e-22            0  1.65436e-23  3.70577e-22 -1.29972e-06 -1.35525e-20 -8.47033e-22            0  6.61744e-24  1.05879e-22\n",
      "          33 -1.29972e-06 -2.71051e-20  1.29972e-06 -8.47033e-22 -4.59521e-08  1.69407e-21  1.29972e-06  2.71051e-20 -1.29972e-06 -4.23516e-22 -9.19042e-09            0\n",
      "\n",
      "fixities reaction (kN, kN-m):\n",
      "          80  5.27278e-20  1.66018e-19  2.01511e-05  1.35071e-07 -1.10004e-08  -6.1507e-23\n",
      "          81            0            0  3.03268e-06            0            0            0\n",
      "          82  5.62755e-16 -2.14293e-16  5.60964e-05  1.45489e-06 -1.77461e-06 -3.20377e-17\n",
      "          83  6.77626e-21  -5.0822e-21  7.53505e-06 -6.75355e-08 -6.75355e-08  1.50624e-21\n",
      "\n",
      "nodal disp (m/rad):\n",
      "           0 -2.23552e-06 -6.13605e-06 -1.48317e-05 -0.000423765  0.000111723 -1.39506e-17\n",
      "           1 -4.01287e-06  4.01287e-06 -1.39839e-05  0.000253911  0.000253911 -5.57124e-18\n",
      "           8  0.000573551  0.000466463  0.000137326  -0.00969891    0.0140618 -0.000168179\n",
      "          11  0.000551221  0.000461361  -0.00120324  -0.00919729     0.015374 -0.000112416\n",
      "          16  2.97246e-06 -2.97246e-06 -8.51473e-09  0.000169855  0.000169855 -2.76228e-18\n",
      "          17  7.81062e-05  6.40346e-05  -7.7215e-08  -0.00365912   0.00446321  5.87538e-14\n",
      "          18            0            0 -2.14519e-09            0            0            0\n",
      "          19  4.84162e-07  5.94491e-06 -2.63628e-08 -0.000339709  2.76664e-05  1.12797e-19\n",
      "          23  0.000269387  0.000216842 -1.33298e-07  -0.00652804   0.00828883  1.09111e-13\n",
      "          25   0.00101849  0.000757271 -0.000880695   -0.0102572     0.015048 -9.04546e-05\n",
      "          26  0.000573143   0.00044911 -0.000880683   -0.0102869    0.0146421 -9.04546e-05\n",
      "          27  0.000278951  0.000235074 -0.000171124  -0.00384825   0.00446321  5.87598e-14\n",
      "          28   0.00100108  0.000753017 -0.000576755  -0.00978296    0.0141459 -0.000168179\n",
      "          29  0.000598019  0.000464707 -0.000576712  -0.00943773    0.0127251 -0.000168179\n",
      "          30 -4.65033e-06  2.12318e-05 -5.16794e-06 -0.000339709  -0.00016146  2.23994e-19\n",
      "          31  0.000789265  0.000602927 -0.000726856   -0.0101784     0.014394 -0.000129317\n",
      "          32  0.000791063  0.000602214  -0.00110813    -0.010239    0.0152492 -8.76089e-05\n",
      "          33   0.00102095  0.000754098  -0.00133746   -0.0102208     0.015307 -8.47633e-05\n",
      "          34  0.000561741  0.000447473  -0.00133746   -0.0102208     0.015307 -8.47633e-05\n",
      "          35  0.000783594  0.000605294 -0.000794257  -0.00960495    0.0147988 -0.000140298\n",
      "          36   0.00101518  0.000741284   -0.0010192  -0.00928135      0.01529 -0.000112416\n",
      "          37  0.000558667   0.00046066  -0.00101919  -0.00942694    0.0151444 -0.000112416\n",
      "          39  1.31415e-06  1.61362e-05 -2.79389e-08 -0.000339709  2.76664e-05  1.12797e-19\n",
      "          40  0.000790074  0.000600707  -0.00118423   -0.0102138     0.015307 -8.47633e-05\n",
      "          41  9.90742e-05  0.000176369   -0.0011945  -0.00934288    0.0152284 -0.000112416\n",
      "          42  3.20384e-06  1.80259e-05 -1.48317e-05 -0.000423765  0.000111723  1.42416e-17\n",
      "          62  2.19813e-05  2.10007e-05  0.000247269  -0.00652804   0.00823279  1.09109e-13\n",
      "          80            0            0            0            0            0            0\n",
      "          81            0            0            0            0            0            0\n",
      "          82            0            0            0            0            0            0\n",
      "          83            0            0            0            0            0            0\n",
      "\n",
      "***Stiffness timer result:\n",
      "SolveK: \ttotal-time: 0.000246 s, \tcount: 1, \tavg-time: 0.000246 s\n",
      "CreateGlobalK: \ttotal-time: 0.000640 s, \tcount: 1, \tavg-time: 0.000640 s\n",
      "CheckIllCond: \ttotal-time: 0.000000 s, \tcount: 0, \tavg-time: nan s\n",
      "computed result file saved successfully!\n",
      "max translation deformation: 0.00133746 / tolerance 0.001\n",
      "max rotational deformation: 0.015374 / tolerance 0.0523333\n"
     ]
    }
   ],
   "source": [
    "import os\n",
    "import time\n",
    "from deformed_frame_viz import meshcat_visualize_deformed\n",
    "cwd = os.getcwd()\n",
    "\n",
    "json_path = os.path.join(cwd, \"assembly_instances/extrusion\",\"topopt-100_S1_03-14-2019_w_layer.json\")\n",
    "# json_path = os.path.join(cwd,\"sf-test_3-frame.json\")\n",
    "# json_path = os.path.join(cwd,\"tower_3D.json\")\n",
    "# load_case_path = os.path.join(cwd,\"tower_3D_load_case.json\")\n",
    "\n",
    "vis.delete()\n",
    "disc = 10\n",
    "exagg_ratio = 1.0\n",
    "time_step = 1.0\n",
    "scale = 5\n",
    "\n",
    "with sys_pipes():\n",
    "    sc = cm.stiffness_checker(json_file_path = json_path, verbose = True)\n",
    "    sc.set_output_json(True)\n",
    "    sc.set_output_json_path(file_path = cwd, file_name = \"sf-test_result.json\")\n",
    "\n",
    "    # manually assigned point loads\n",
    "#     ext_load = np.zeros([1,7])\n",
    "#     ext_load[0,0] = 3\n",
    "#     ext_load[0,4] = -1\n",
    "    include_sw = True\n",
    "\n",
    "    # import load from a json file\n",
    "#     ext_load, include_sw = cm.parse_load_case_from_json(load_case_path)\n",
    "#     print('external load:')\n",
    "#     print(ext_load)\n",
    "#     print('include self weight : {0}'.format(include_sw))\n",
    "#     sc.set_load(nodal_forces = ext_load)\n",
    "    sc.set_self_weight_load(include_sw) # now this is true by default\n",
    "    \n",
    "#     sc.set_nodal_displacement_tol(transl_tol=1e-3)\n",
    "    \n",
    "#     existing_ids = [125, 126, 115, 122, 111, 108, 23, 22, 98, 75, 64, 34, 61, 65, 59, 60, 39, 36, 44, 67]\n",
    "    existing_ids = [124, 126, 127, 125, 53, 48, 71, 58, 57, 65, 63, \\\n",
    "                    21, 69, 64, 82, 70, 18, 91, 85, 47, 84, 78, 89, 108, 86, 98, 33]#, 36, 22, 90, 87]\n",
    "#     existing_ids = [64] # unsupported\n",
    "    \n",
    "    print(\"solve: {0}\\n\\n\".format(sc.solve(existing_ids)))\n",
    "    \n",
    "    # Collecting results\n",
    "#     print(\"has stored results?: {0}\".format(sc.has_stored_result()))    \n",
    "#     success, nD, fR, eR = sc.get_solved_results()\n",
    "#     print(\"pass criteria?\\n {0}\".format(success))\n",
    "#     print(\"nodal displacement?\\n {0}\".format(nD))\n",
    "#     print(\"fixities reaction?\\n {0}\".format(fR))\n",
    "#     print(\"element reaction?\\n {0}\".format(eR))\n",
    "    \n",
    "    # visualize deformed structure\n",
    "    orig_beam_shape = sc.get_original_shape(disc=disc, draw_full_shape=False)\n",
    "#     print(orig_beam_shape)\n",
    "    \n",
    "    beam_disp = sc.get_deformed_shape(exagg_ratio=exagg_ratio, disc=disc)\n",
    "#     print(beam_disp)\n",
    "    meshcat_visualize_deformed(vis, beam_disp, orig_beam_shape, disc=disc, scale=scale)"
   ]
  },
  {
   "cell_type": "markdown",
   "metadata": {},
   "source": [
    "# animate deformation for a construction sequence"
   ]
  },
  {
   "cell_type": "code",
   "execution_count": 7,
   "metadata": {},
   "outputs": [],
   "source": [
    "import os\n",
    "import time\n",
    "cwd = os.getcwd()\n",
    "\n",
    "json_path = os.path.join(cwd,\"tower_3D.json\")\n",
    "# json_path = os.path.join(cwd,\"sf-test_3-frame.json\")\n",
    "load_case_path = os.path.join(cwd,\"tower_3D_load_case.json\")\n",
    "\n",
    "vis.delete()\n",
    "disc = 10\n",
    "exagg_ratio=1.0\n",
    "time_step = 1.0\n",
    "\n",
    "with sys_pipes():\n",
    "    sc = cm.stiffness_checker(json_file_path = json_path, verbose = False)\n",
    "    \n",
    "#     sc.set_output_json(True)\n",
    "#     sc.set_output_json_path(file_path = cwd, file_name = \"sf-test_result.json\")\n",
    "\n",
    "#     ext_load = np.zeros([1,7])\n",
    "#     ext_load[0,0] = 3\n",
    "#     include_sw = False\n",
    "\n",
    "#     ext_load, include_sw = cm.parse_load_case_from_json(load_case_path)\n",
    "#     print('external load:')\n",
    "#     print(ext_load)\n",
    "#     print('include self weight : {0}'.format(include_sw))\n",
    "#     sc.set_load(nodal_forces = ext_load)\n",
    "#     sc.set_self_weight_load(include_sw)\n",
    "\n",
    "    sc.set_self_weight_load(True)\n",
    "\n",
    "    for i in range(0,24):\n",
    "        vis.delete()\n",
    "        existing_ids = list(range(0,i+1))\n",
    "        sc.solve(existing_ids)\n",
    "\n",
    "        orig_beam_shape = sc.get_original_shape(disc=disc, draw_full_shape=False)\n",
    "        beam_disp = sc.get_deformed_shape(exagg_ratio=exagg_ratio, disc=disc)\n",
    "        meshcat_visualize_deformed(vis, beam_disp, orig_beam_shape, disc=disc, scale=0.5)\n",
    "        time.sleep(time_step)"
   ]
  }
 ],
 "metadata": {
  "@webio": {
   "lastCommId": null,
   "lastKernelId": null
  },
  "kernelspec": {
   "display_name": "local_py2.7",
   "language": "python",
   "name": "local_py2.7"
  },
  "language_info": {
   "codemirror_mode": {
    "name": "ipython",
    "version": 2
   },
   "file_extension": ".py",
   "mimetype": "text/x-python",
   "name": "python",
   "nbconvert_exporter": "python",
   "pygments_lexer": "ipython2",
   "version": "2.7.16"
  }
 },
 "nbformat": 4,
 "nbformat_minor": 2
}
