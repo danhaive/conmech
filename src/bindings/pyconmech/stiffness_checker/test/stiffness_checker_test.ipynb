{
 "cells": [
  {
   "cell_type": "code",
   "execution_count": 5,
   "metadata": {},
   "outputs": [],
   "source": [
    "import numpy as np\n",
    "import conmech_py as cm\n",
    "from wurlitzer import sys_pipes"
   ]
  },
  {
   "cell_type": "code",
   "execution_count": 7,
   "metadata": {},
   "outputs": [
    {
     "name": "stdout",
     "output_type": "stream",
     "text": [
      "Initialization done\n",
      "nodal disp (mm/rad):\n",
      "node_id\tdof\tval\n",
      "3\t0(Tx)\t-6.37256e-09\n",
      "3\t1(Ty)\t-1.94996e-10\n",
      "3\t2(Tz)\t-0.735006\n",
      "3\t3(Rx)\t2.62354e-13\n",
      "3\t4(Ry)\t-8.57385e-12\n",
      "3\t5(Rz)\t-7.85002e-28\n",
      "\n",
      "fixities reaction (N, N-mm):\n",
      "node_id\tdof\tval\n",
      "0\t0(Fx)\t-116595\n",
      "0\t1(Fy)\t8.92131e-09\n",
      "0\t2(Fz)\t166667\n",
      "0\t3(Mx)\t-1.10194e-05\n",
      "0\t4(My)\t35961.7\n",
      "0\t5(Mz)\t-2.58228e-07\n",
      "1\t0(Fx)\t58297.4\n",
      "1\t1(Fy)\t-100974\n",
      "1\t2(Fz)\t166667\n",
      "1\t3(Mx)\t-31143.7\n",
      "1\t4(My)\t-17980.8\n",
      "1\t5(Mz)\t7.43766e-06\n",
      "2\t0(Fx)\t58297.4\n",
      "2\t1(Fy)\t100974\n",
      "2\t2(Fz)\t166667\n",
      "2\t3(Mx)\t31143.7\n",
      "2\t4(My)\t-17980.8\n",
      "2\t5(Mz)\t-7.17944e-06\n",
      "\n",
      "element reaction (N, N-mm):\n",
      "e_id\tv_id\t\n",
      "0\t0       203401 -5.11604e-09      33.7895  6.10767e-06     -20622.7 -5.26183e-06\n",
      " \t3      -203401  5.11604e-09     -33.7895 -6.10767e-06     -20622.7 -9.83091e-07\n",
      "1\t1       203401  1.47364e-07      33.7895 -0.000175914     -20622.7  0.000151552\n",
      " \t3      -203401 -1.47364e-07     -33.7895  0.000175914     -20622.7  2.83153e-05\n",
      "2\t2       203401 -1.42237e-07      33.7895  0.000169806     -20622.7  -0.00014629\n",
      " \t3      -203401  1.42237e-07     -33.7895 -0.000169806     -20622.7 -2.73322e-05\n",
      "\n",
      "***Stiffness timer result:\n",
      "SolveK: \ttotal-time: 0.000005 s, \tcount: 1, \tavg-time: 0.000005 s\n",
      "CreateGlobalK: \ttotal-time: 0.000008 s, \tcount: 1, \tavg-time: 0.000008 s\n",
      "CheckIllCond: \ttotal-time: 0.000000 s, \tcount: 0, \tavg-time: -nan s\n"
     ]
    }
   ],
   "source": [
    "import os \n",
    "cwd = os.getcwd()\n",
    "\n",
    "json_path = cwd + \"/sf-test_3-frame.json\"\n",
    "\n",
    "with sys_pipes():\n",
    "    sc = cm.stiffness_checker(json_file_path = json_path, verbose = True)\n",
    "\n",
    "    ext_load = np.zeros([1,7])\n",
    "    ext_load[0,0] = 3\n",
    "    ext_load[0,3] = -500 * 1e3\n",
    "\n",
    "    sc.set_nodal_load(nodal_forces = ext_load, include_self_weight = False)\n",
    "    sc.solve()"
   ]
  }
 ],
 "metadata": {
  "kernelspec": {
   "display_name": "Python 2",
   "language": "python",
   "name": "python2"
  },
  "language_info": {
   "codemirror_mode": {
    "name": "ipython",
    "version": 2
   },
   "file_extension": ".py",
   "mimetype": "text/x-python",
   "name": "python",
   "nbconvert_exporter": "python",
   "pygments_lexer": "ipython2",
   "version": "2.7.12"
  }
 },
 "nbformat": 4,
 "nbformat_minor": 2
}
